{
 "cells": [
  {
   "metadata": {},
   "cell_type": "markdown",
   "source": [
    "# Завдання 2\n",
    "\n",
    "Напишіть алгоритм (функцію), який знаходить найменше значення у двійковому дереві пошуку або в AVL-дереві. Візьміть будь-яку реалізацію дерева з конспекту чи з іншого джерела."
   ],
   "id": "62d3810ef2b19650"
  },
  {
   "cell_type": "code",
   "id": "initial_id",
   "metadata": {
    "collapsed": true,
    "ExecuteTime": {
     "end_time": "2024-07-21T11:20:15.601321Z",
     "start_time": "2024-07-21T11:20:15.594922Z"
    }
   },
   "source": [
    "class Node:\n",
    "    def __init__(self, key):\n",
    "        self.left = None\n",
    "        self.right = None\n",
    "        self.val = key\n",
    "\n",
    "    def __str__(self, level=0, prefix=\"Root: \"):\n",
    "        ret = \"\\t\" * level + prefix + str(self.val) + \"\\n\"\n",
    "        if self.left:\n",
    "            ret += self.left.__str__(level + 1, \"L--- \")\n",
    "        if self.right:\n",
    "            ret += self.right.__str__(level + 1, \"R--- \")\n",
    "        return ret\n",
    "\n",
    "def insert(root, key):\n",
    "    if root is None:\n",
    "        return Node(key)\n",
    "    else:\n",
    "        if key < root.val:\n",
    "            root.left = insert(root.left, key)\n",
    "        else:\n",
    "            root.right = insert(root.right, key)\n",
    "    return root\n",
    "\n",
    "def search(root, key):\n",
    "    if root is None or root.val == key:\n",
    "        return root\n",
    "    if key < root.val:\n",
    "        return search(root.left, key)\n",
    "    return search(root.right, key)\n",
    "\n",
    "def min_value_node(node):\n",
    "    current = node\n",
    "    while current.left:\n",
    "        current = current.left\n",
    "    return current\n",
    "\n",
    "def delete(root, key):\n",
    "    if not root:\n",
    "        return root\n",
    "\n",
    "    if key < root.val:\n",
    "        root.left = delete(root.left, key)\n",
    "    elif key > root.val:\n",
    "        root.right = delete(root.right, key)\n",
    "    else:\n",
    "        if not root.left:\n",
    "            temp = root.right\n",
    "            root = None\n",
    "            return temp\n",
    "        elif not root.right:\n",
    "            temp = root.left\n",
    "            root = None\n",
    "            return temp\n",
    "        root.val = min_value_node(root.right).val\n",
    "        root.right = delete(root.right, root.val)\n",
    "    return root\n",
    "\n",
    "\n",
    "\n",
    "\n"
   ],
   "outputs": [],
   "execution_count": 6
  },
  {
   "metadata": {},
   "cell_type": "markdown",
   "source": "## Функція пошуку мінімального значення",
   "id": "b89a3aa4e2f704b5"
  },
  {
   "metadata": {},
   "cell_type": "code",
   "outputs": [],
   "execution_count": null,
   "source": [
    "def minimum_node(root):\n",
    "    minimum = root.val\n",
    "    if root is None:\n",
    "        return root\n",
    "    if root.left:\n",
    "        return minimum_node(root.left)\n",
    "    return minimum\n"
   ],
   "id": "b818f4ae043f98d3"
  },
  {
   "metadata": {
    "ExecuteTime": {
     "end_time": "2024-07-21T11:20:25.778202Z",
     "start_time": "2024-07-21T11:20:25.773768Z"
    }
   },
   "cell_type": "code",
   "source": [
    "root = Node(5)\n",
    "root = insert(root, 3)\n",
    "root = insert(root, 2)\n",
    "root = insert(root, 4)\n",
    "root = insert(root, 7)\n",
    "root = insert(root, 6)\n",
    "root = insert(root, -10)\n",
    "\n",
    "root = delete(root, 7)\n",
    "\n",
    "\n",
    "print(root)"
   ],
   "id": "f85081d3b4382663",
   "outputs": [
    {
     "name": "stdout",
     "output_type": "stream",
     "text": [
      "Root: 5\n",
      "\tL--- 3\n",
      "\t\tL--- 2\n",
      "\t\t\tL--- -10\n",
      "\t\tR--- 4\n",
      "\tR--- 6\n",
      "\n"
     ]
    }
   ],
   "execution_count": 9
  },
  {
   "metadata": {
    "ExecuteTime": {
     "end_time": "2024-07-21T11:20:27.997649Z",
     "start_time": "2024-07-21T11:20:27.993147Z"
    }
   },
   "cell_type": "code",
   "source": "print(f\"Minimum value is: {minimum_node(root)}\")",
   "id": "76c3656201224214",
   "outputs": [
    {
     "name": "stdout",
     "output_type": "stream",
     "text": [
      "Minimum value is: -10\n"
     ]
    }
   ],
   "execution_count": 10
  }
 ],
 "metadata": {
  "kernelspec": {
   "display_name": "Python 3",
   "language": "python",
   "name": "python3"
  },
  "language_info": {
   "codemirror_mode": {
    "name": "ipython",
    "version": 2
   },
   "file_extension": ".py",
   "mimetype": "text/x-python",
   "name": "python",
   "nbconvert_exporter": "python",
   "pygments_lexer": "ipython2",
   "version": "2.7.6"
  }
 },
 "nbformat": 4,
 "nbformat_minor": 5
}
