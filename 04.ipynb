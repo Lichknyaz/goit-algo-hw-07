{
 "cells": [
  {
   "metadata": {},
   "cell_type": "markdown",
   "source": [
    "## Завдання 4 (необов'язкове завдання)\n",
    "\n",
    "Реалізуйте структуру даних для системи коментарів так, щоб коментарі могли мати відповіді, які, в свою чергу, також могли мати відповіді, формуючи таким чином ієрархічну структуру."
   ],
   "id": "d119c1076b93b78b"
  },
  {
   "metadata": {
    "ExecuteTime": {
     "end_time": "2024-07-22T09:56:56.078932Z",
     "start_time": "2024-07-22T09:56:56.073376Z"
    }
   },
   "cell_type": "code",
   "source": [
    "class Comment:\n",
    "    def __init__(self, comment, name):\n",
    "        self.comment = comment\n",
    "        self.name = name\n",
    "        self.replies = []\n",
    "        self.is_deleted = False\n",
    "    \n",
    "    def __repr__(self):\n",
    "        return str({self.name: self.comment})\n",
    "        \n",
    "    def __str__(self):\n",
    "        return f\"{self.name} : {self.comment}\"\n",
    "    \n",
    "    def add_reply(self, reply):\n",
    "        self.replies.append(reply)\n",
    "\n",
    "    def display(self, level=0):\n",
    "        indent = \"  \" * level\n",
    "        if self.is_deleted:\n",
    "            print(f\"{indent}{self.comment}\")\n",
    "        else:\n",
    "            print(f\"{indent}{self.name} : {self.comment}\")\n",
    "        for reply in self.replies:\n",
    "            reply.display(level + 1)\n",
    "    \n",
    "    def delete_reply(self):\n",
    "        self.comment = \"Цей коментар було видалено.\"\n",
    "        self.is_deleted = True\n",
    "        "
   ],
   "id": "2071b937003a4d78",
   "outputs": [],
   "execution_count": 168
  },
  {
   "metadata": {
    "ExecuteTime": {
     "end_time": "2024-07-22T09:56:57.619700Z",
     "start_time": "2024-07-22T09:56:57.615669Z"
    }
   },
   "cell_type": "code",
   "source": [
    "root_comment = Comment(\"Яка чудова книга!\", \"Бодя\")\n",
    "reply1 = Comment(\"Книга повне розчарування :(\", \"Андрій\")\n",
    "reply2 = Comment(\"Що в ній чудового?\", \"Марина\")\n",
    "\n",
    "root_comment.add_reply(reply1)\n",
    "root_comment.add_reply(reply2)\n",
    "\n",
    "reply1_1 = Comment(\"Не книжка, а перевели купу паперу ні нащо...\", \"Сергій\")\n",
    "reply1.add_reply(reply1_1)\n",
    "\n",
    "reply1.delete_reply()\n",
    "\n",
    "root_comment.display()\n"
   ],
   "id": "ace61d4e4e23c24c",
   "outputs": [
    {
     "name": "stdout",
     "output_type": "stream",
     "text": [
      "Бодя : Яка чудова книга!\n",
      "  Цей коментар було видалено.\n",
      "    Сергій : Не книжка, а перевели купу паперу ні нащо...\n",
      "  Марина : Що в ній чудового?\n"
     ]
    }
   ],
   "execution_count": 169
  }
 ],
 "metadata": {
  "kernelspec": {
   "display_name": "Python 3",
   "language": "python",
   "name": "python3"
  },
  "language_info": {
   "codemirror_mode": {
    "name": "ipython",
    "version": 2
   },
   "file_extension": ".py",
   "mimetype": "text/x-python",
   "name": "python",
   "nbconvert_exporter": "python",
   "pygments_lexer": "ipython2",
   "version": "2.7.6"
  }
 },
 "nbformat": 4,
 "nbformat_minor": 5
}
